{
 "cells": [
  {
   "cell_type": "markdown",
   "metadata": {},
   "source": [
    "# Objects and Classes\n",
    "\n",
    "All of the variables we've declared so far have been the simple types: `int`, `float`, `str`, `bool`.  These are the basic building blocks of Python, but they are not the only types.  All of these things are objects - each individual variable is one instance, or example, of an object of type `int`, `float`, `str`, or `bool`. We can also create our own types of objects, and we'll do that here. Classes define what a given type of object is and what it consists of. Each instance of that class we create is one object that exist in our program's memory, and we refer to with a variable. \n",
    "\n",
    "Classes are a way that we can allow our programs to more easily model the real world scenarios that we care about. Once we create classes for the key objects we are using in our program we can abstract away the details of how they work and focus on the higher level logic of our program. For example, in our person class we can write a function called \"change_name\" that allows us to change the name of a person. We don't need to know how the function works, we just need to know that it does what we want it to do. Every time we ask a dataframe for the \"head\" or we ask a string for its \"length\" we are doing the equivalent on those objects - we don't need to know how to slice out 5 rows and print them, we can rely on the class itself having abilities. \n",
    "\n",
    "<b>Note:</b> we want to add some documentation to our classes so we know what they do and we can share them with others. We've slacked on that here, but we will add the proper documentation next time. \n",
    "\n",
    "## Classes\n",
    "\n",
    "A class is a template for creating objects.  It defines the attributes and methods that all objects of that class will have.  For example, we can create a class called `Person` that has attributes `name` and `age`, and methods `birthday` and `greet`.  Then we can create objects of type `Person` that have their own values for `name` and `age`, and that can call the `birthday` and `greet` methods.\n",
    "\n",
    "We can create a simple Person class here, then fill in the details on some of what we made."
   ]
  },
  {
   "cell_type": "code",
<<<<<<< HEAD
   "execution_count": 3,
=======
   "execution_count": 1,
>>>>>>> a4f581fdd349642c342ed8473ebd855e733fb3d8
   "metadata": {},
   "outputs": [],
   "source": [
    "# Person Class\n",
    "class Person:\n",
    "    # self = refers to itself, needed if you need to act on itself\n",
    "    # Constructor\n",
    "    def __init__(self, name, age):\n",
    "        self.name = name\n",
    "        self.age = age\n",
    "\n",
    "    # Method\n",
    "    def say_hello(self):\n",
    "        print(\"Hello my name is \" + self.name + \" and I am \" + str(self.age) + \" years old.\")\n",
    "\n",
    "    # Method\n",
    "    def say_goodbye(self):\n",
    "        print(\"Goodbye!\")\n",
    "    \n",
    "    # Method\n",
    "    def greet(self, other_person):\n",
    "        print(\"Hello \" + other_person.name + \", my name is \" + self.name + \".\")\n",
    "    \n",
    "    #birthday\n",
    "    def birthday(self):\n",
    "        self.age += 1\n",
    "        print(\"Happy birthday \" + self.name + \"! You are now \" + str(self.age) + \" years old.\")"
   ]
  },
  {
   "cell_type": "code",
<<<<<<< HEAD
   "execution_count": 5,
=======
   "execution_count": 8,
>>>>>>> a4f581fdd349642c342ed8473ebd855e733fb3d8
   "metadata": {},
   "outputs": [
    {
     "name": "stdout",
     "output_type": "stream",
     "text": [
      "Hello my name is Crazy Jimmy and I am 23 years old.\n"
     ]
    }
   ],
   "source": [
    "crazy_jimmy = Person(\"Crazy Jimmy\", 23)\n",
    "slick_willie = Person(\"Slick Willie\", 25)\n",
<<<<<<< HEAD
    "\n",
    "crazy_jimmy.say_hello()\n"
=======
    "crazy_jimmy.say_hello()"
   ]
  },
  {
   "cell_type": "code",
   "execution_count": 9,
   "metadata": {},
   "outputs": [
    {
     "name": "stdout",
     "output_type": "stream",
     "text": [
      "Hello Slick Willie, my name is Crazy Jimmy.\n"
     ]
    }
   ],
   "source": [
    "crazy_jimmy.greet(slick_willie)"
>>>>>>> a4f581fdd349642c342ed8473ebd855e733fb3d8
   ]
  },
  {
   "cell_type": "markdown",
   "metadata": {},
   "source": [
    "### Class Parts\n",
    "\n",
    "#### Self\n",
    "\n",
    "One odd thing about creating classes is that we have the idea of \"self\" that we need to incorporate into our code. This is a reference to the object itself.  When we create an object of a class, we can call methods on that object, and the object itself is passed as the first argument to the method.  The \"self.\" prefix basically says \"get this thing from myself\", when we are using this class later to create objects, all the self calls will be looking inside that instance of the object and grabbing the value of the attribute or calling the method.\n",
    "\n",
    "Self is also the first parameter of any method in a class.  When we call a method on an object, the object itself is passed as the first argument to the method.  This is why we need to have `self` as the first argument to any method in a class. This isn't the most natural concept, you can think of a rule of \"if I need something internally, it starts with self.\", if I need something from outside, it doesn't.\n",
    "\n",
    "#### Constructor\n",
    "\n",
    "The constructor is a special method that is called when we create a new object of a class, it constructs or creates the object of our class for us.  It is defined with the name `__init__` and takes as its first argument `self`, which is a reference to the object itself.  The constructor can take other arguments as well, which are used to set the initial values of the object's attributes. The constructor performs initialization tasks, or getting the object ready to be used; this can vary somewhat, but normally consists of setting the initial values of the object's attributes. In the person example, we take in the initial information - a name and age of the new person - and set the attributes of the object to those values. Once that is done, the object is ready to be used. \n",
    "\n",
    "#### Attributes\n",
    "\n",
    "Inside the constructor we set values for the object's attributes.  Attributes are variables that are associated with an object.  They are accessed using the dot notation, as in `object.attribute`.  In the `Person` class, we have two attributes, `name` and `age`.  We can access these attributes using the dot notation, as in `person1.name` or `person2.age`.  We can also set the values of these attributes using the dot notation, as in `person1.name = \"Bob\"` or `person2.age = 42`.\n",
    "\n",
    "These attributes are most commonly simple types such as strings or numbers, but they can be anything. Since each attribute is just an object that \"belongs to\" the object we are creating, the attribute's object can be anything we need it to be, including other objects we create or data structures such as lists or dataframes. \n",
    "\n",
    "#### Methods\n",
    "\n",
    "In addition to attributes, classes can have methods.  Methods are functions that are associated with an object, or things that the object can \"do\". By \"do\" we mean that the function can be called from any object that we've created. Methods are defined just like any other function inside the class, except they take `self` as their first argument. Methods are also called using the dot notation of `object.method()`, just as attributes are, except that functions will have parentheses after the name. \n",
    "\n",
    "The `Person` class has two methods, `birthday` and `greet`.  The `birthday` method takes no arguments, and simply increments the `age` attribute of the object by 1.  The `greet` method takes one argument, `other`, which is another object of type `Person`.  It prints a greeting to the other person, using the `name` attribute of the other person.  We can call these methods using the dot notation, as in `person1.birthday()` or `person1.greet(person2)`."
   ]
  },
  {
   "cell_type": "markdown",
   "metadata": {},
   "source": [
    "## Exercise\n",
    "\n",
    "Create a class called \"Student\" that has/can do the following:\n",
    "<ul>\n",
    "<li> Has a name, age, and major as attributes. </li>\n",
    "<li> Has a list of grades. For simplicity, we can do just a list of numbers 0-100; if you feel motivated, try to have a list of \"class\" and \"grade\" tuples. </li>\n",
    "<li> Has a way to add grades to the list. </li>\n",
    "<li> Has a method to return the average grade. </li>\n",
    "<li> Has a method to print the student's name, age, major, and GPA in some presentable way. </li>\n",
    "</ul>"
   ]
  },
  {
   "cell_type": "code",
<<<<<<< HEAD
   "execution_count": 28,
=======
   "execution_count": 3,
>>>>>>> a4f581fdd349642c342ed8473ebd855e733fb3d8
   "metadata": {},
   "outputs": [
    {
     "name": "stdout",
     "output_type": "stream",
     "text": [
      "My name is bob! I am 25 and major in Science with a average grade of 40.0!\n",
      "My name is bob! I am 25 and major in Science with a average grade of 85.5!\n",
      "My name is bob! I am 25 and major in Sciencewith a average grade of 85.5!\n"
     ]
    }
   ],
   "source": [
    "# Code me bro. \n",
    "class Student:\n",
    "    #constructor\n",
    "    def __init__(self, name, age, major):\n",
    "        self.name = name\n",
    "        self.age = age\n",
    "        self.major = major\n",
    "        self.grades = []\n",
    "        self.grades2 = []\n",
    "\n",
    "    def addGrade(self, grade):\n",
    "        self.grades.append(grade)\n",
    "\n",
    "\n",
    "    def addGrade2(self, grade, course):\n",
    "        self.grades2.append((grade, course))\n",
    "\n",
    "    def average(self):\n",
    "        total = sum(self.grades)\n",
    "        avg = total / len(self.grades)\n",
    "        return avg\n",
    "\n",
    "    def average2(self):\n",
    "        total = 0\n",
    "        for clss in self.grades2:\n",
    "            total += clss[0]\n",
    "        avg = total / len(self.grades2)\n",
    "        return avg\n",
    "    \n",
    "    def print(self):\n",
    "        print(f'My name is {self.name}! I am {self.age} and major in {self.major} with a average grade of {self.average()}!')\n",
    "        \n",
    "    def print2(self):\n",
    "        print(f'My name is {self.name}! I am {self.age} and major in {self.major} with a average grade of {self.average2()}!')\n",
    "\n",
    "    # overloads string so it can be used as print\n",
    "    def __str__(self):\n",
    "        return_string = \"My name is \" + self.name + \"! I am \" + str(self.age)  + \" and major in \" + str(self.major) + \"with a average grade of \" + str(self.average2()) + \"!\"\n",
    "        return return_string\n",
    "\n",
    "\n",
    "bob = Student('bob', 25, 'Science')\n",
    "# avg 1\n",
    "bob.addGrade(20)\n",
    "bob.addGrade(30)\n",
    "bob.addGrade(50)\n",
    "bob.addGrade(60)\n",
    "bob.print()\n",
    "\n",
    "# avg 2\n",
    "bob.addGrade2(90, \"Math\")\n",
    "bob.addGrade2(81, \"Science\")\n",
    "bob.print2()\n",
    "\n",
    "print(bob)\n",
    "    "
   ]
  },
  {
   "cell_type": "markdown",
   "metadata": {},
   "source": [
    "## Static Methods and Variables\n",
    "\n",
    "Everything above is oriented around the object that we are creating - each object has its own attributes and methods that we call for that specific instance. Sometimes we also want to create something that is associated with the class itself, rather than any specific object.  These are called static methods, and are defined using the `@staticmethod` decorator.  These methods are called using the class name, rather than an object name, as in `Person.static_method()`.  Static methods are not associated with any particular object, and so do not take `self` as an argument.  They are most commonly used for utility functions that are related to the class, but don't need to be associated with any particular object.\n",
    "\n",
    "### Static Variables\n",
    "\n",
    "Static variables are variables that are associated with the class itself, rather than any particular object.  They are defined inside the class, but outside of any methods.  They are accessed using the dot notation, as in `Class.static_variable`.  Static variables are most commonly used for constants, or values that are associated with the class, but don't change from object to object.  For example, the origin variable below is a static variable that belongs to the class of Martian as a whole, not to any specific aliens. These static or class variables are the same for all instances of the class, and can be accessed by any instance of the class. No Martian can have a unique origin, they all come from the same place - if we wanted them to be diverse, this would need to be a class variable. \n",
    "\n",
    "### Decorators\n",
    "\n",
    "When creating static methods we use a decorator, which is a special type of function that modifies the function that follows it.  Decorators are indicated by the `@` symbol, followed by the name of the decorator function.  In the case of static methods, we use the `@staticmethod` decorator.  Decorators are a bit beyond the scope of this course, but you can read more about them [here](https://realpython.com/primer-on-python-decorators/).\n",
    "\n",
    "#### Example\n",
    "\n",
    "Below we can make an example of a static method, months_old. This is a helper function, it isn't tied to any particular example of a Martian, it just takes in the age in years and multiples it by 12 to return the number of months. Note that there's no \"self\" reference here as we aren't trying it to any particular Martian, it's just one machine up on Mars HQ that we can call on to do work for any of the Martians.\n",
    "\n",
    "![Marvin](../images/marvin.png \"Marvin the Martian\")"
   ]
  },
  {
   "cell_type": "code",
<<<<<<< HEAD
   "execution_count": 29,
=======
   "execution_count": 4,
>>>>>>> a4f581fdd349642c342ed8473ebd855e733fb3d8
   "metadata": {},
   "outputs": [],
   "source": [
    "# \n",
    "class Martian:\n",
    "\n",
    "    # Class Variable\n",
    "    origin = \"Mars\"\n",
    "\n",
    "    def __init__(self, name, age):\n",
    "        self.name = name\n",
    "        self.age = age\n",
    "    \n",
    "    def say_hello(self):\n",
    "        print(\"Hello my name is \" + self.name + \" and I am \" + str(self.age) + \" years old.\")\n",
    "    \n",
    "    def say_goodbye(self):\n",
    "        print(\"Goodbye!\")\n",
    "    \n",
    "    def greet(self, other_person):\n",
    "        print(\"Hello \" + other_person.name + \", my name is \" + self.name + \".\")\n",
    "    \n",
    "    def birthday(self):\n",
    "        self.age += 1\n",
    "        print(\"Happy birthday \" + self.name + \"! You are now \" + str(self.age) + \" years old.\")\n",
    "    \n",
    "    @staticmethod\n",
    "    def months_old(age):\n",
    "        return age * 12\n",
    "    \n",
    "    @staticmethod\n",
    "    def changeOrigin(new_origin):\n",
    "        Martian.origin = new_origin"
   ]
  },
  {
   "cell_type": "code",
   "execution_count": 30,
   "metadata": {},
   "outputs": [
    {
     "data": {
      "text/plain": [
       "'Mars'"
      ]
     },
     "execution_count": 30,
     "metadata": {},
     "output_type": "execute_result"
    }
   ],
   "source": [
    "Martian.origin"
   ]
  },
  {
   "cell_type": "markdown",
   "metadata": {},
   "source": [
    "##### Calling a Static Method\n",
    "\n",
    "Rather than refer to any specific object to access a static method, we refer to it by class.method().\n",
    "\n",
    "<b>Note:</b> it is really common (e.g. pandas as pd, seaborn as sns, etc...) to use an alias for things we import. In such a case the alias just replaces the class name in the call. So if we imported Martian as M, we would call the static method as M.months_old(1). This example isn't imported, it's in this file, so this doesn't apply - but this is a common pattern you'll see in other code."
   ]
  },
  {
   "cell_type": "code",
<<<<<<< HEAD
   "execution_count": 31,
=======
   "execution_count": 5,
>>>>>>> a4f581fdd349642c342ed8473ebd855e733fb3d8
   "metadata": {},
   "outputs": [
    {
     "name": "stdout",
     "output_type": "stream",
     "text": [
      "Hello my name is Marty and I am 7 years old.\n",
      "Happy birthday Marty! You are now 8 years old.\n",
      "Hello my name is Marty and I am 8 years old.\n",
      "Hello Marvin, my name is Marty.\n"
     ]
    }
   ],
   "source": [
    "Martian.months_old(5)\n",
    "\n",
    "## Other Martian Stuff\n",
    "marvin = Martian(\"Marvin\", 38)\n",
    "marty = Martian(\"Marty\", 7)\n",
    "marty.say_hello()\n",
    "marty.birthday()\n",
    "marty.say_hello()\n",
    "marty.greet(marvin)\n"
   ]
  },
  {
   "cell_type": "markdown",
   "metadata": {},
   "source": [
    "We can look at the static variable, origin, and even change it to see what happens..."
   ]
  },
  {
   "cell_type": "code",
<<<<<<< HEAD
   "execution_count": 32,
=======
   "execution_count": 6,
>>>>>>> a4f581fdd349642c342ed8473ebd855e733fb3d8
   "metadata": {},
   "outputs": [
    {
     "name": "stdout",
     "output_type": "stream",
     "text": [
      "Mars\n",
      "Mars\n",
      "Mars\n",
      "Earth\n",
      "Earth\n",
      "Earth\n"
     ]
    }
   ],
   "source": [
    "print(Martian.origin)\n",
    "print(marvin.origin)\n",
    "print(marty.origin)\n",
    "\n",
    "# change static variable\n",
    "marty.changeOrigin(\"Earth\")\n",
    "print(Martian.origin)\n",
    "print(marvin.origin)\n",
    "print(marty.origin)\n",
    "# All static variables are changed"
   ]
  },
  {
   "cell_type": "markdown",
   "metadata": {},
   "source": [
    "We can see that if we change the value of origin anywhere, that change is universal for all objects of that class. "
   ]
  },
  {
   "cell_type": "markdown",
   "metadata": {},
   "source": [
    "## Exercise\n",
    "\n",
    "Create a class called \"ClassSection\" that models one section of a class. It should have/do the following, at a minimum:\n",
    "<ul>\n",
    "<li> Has a name, semester, and year as attributes. </li>\n",
    "<li> Has a list of Students. Using the student object up above. </li>\n",
    "<li> Has a method to add a student to the list. </li>\n",
    "<li> Has a method to print the class roster. </li>\n",
    "<li> Has a static method that takes in a list of grades and a student name, and returns the class average. </li>\n",
    "<li> Has a static method that takes in a class, returns class average <li>\n",
    "</ul>\n",
    "\n",
    "This is a little vague, that is intentional, think about what we need to do to store a bunch of students that we defined up above. The important things out of this are creating a list of Students, creating a new student, and getting attributes of all the students. Try to create 3 students with data in them, and use those as sample data here; if it works with 3, it should work with 30."
   ]
  },
  {
   "cell_type": "code",
<<<<<<< HEAD
   "execution_count": 83,
=======
   "execution_count": 7,
>>>>>>> a4f581fdd349642c342ed8473ebd855e733fb3d8
   "metadata": {},
   "outputs": [],
   "source": [
    "import random\n",
    "# Make some classes\n",
    "class ClassSection:\n",
    "    def __init__(self, name, semester, year, students = []):\n",
    "        self.name = name\n",
    "        self.semester = semester\n",
    "        self.year = year\n",
    "        self.students = students\n",
    "    \n",
    "    def addStudent(self, student):\n",
    "        self.students.append(student)\n",
    "\n",
    "    # extra method to remove student\n",
    "    def dropStudent(self, student):\n",
    "        studentNames = self.getStudentNames()\n",
    "        if student.getName() in studentNames:\n",
    "            for s in self.students:\n",
    "                if s.getName() == student.getName():\n",
    "                    self.students.remove(student)\n",
    "    # method to help dropStudent\n",
    "    def getStudentNames(self):\n",
    "        studentNames = []\n",
    "        for i in range(len(self.students)):\n",
    "            studentNames.append(self.students[i].getName())\n",
    "        return studentNames\n",
    "\n",
    "    def printRoster(self):\n",
    "        print(f'Class: {self.name}, Semester: {self.semester}, Year: {self.year}')\n",
    "        for i in range(len(self.students)):\n",
    "            print(self.students[i])\n",
    "\n",
    "    @staticmethod\n",
    "    def classAverage(className):\n",
    "        classAvg = None\n",
    "        classTotal = 0\n",
    "        for i in range(len(className.students)):\n",
    "            classTotal += className.students[i].average()\n",
    "        \n",
    "        classAvg = classTotal / len(className.students)\n",
    "\n",
    "        '''\n",
    "        total_marks = 0\n",
    "        total_students = 0\n",
    "        for student in my_class.students:\n",
    "            total_marks += students.average()\n",
    "            total_students += 1\n",
    "        \n",
    "        return total_marks / total_students\n",
    "        '''\n",
    "        return classAvg\n",
    "    \n",
    "\n",
    "\n",
    "# Code me bro. \n",
    "class Student:\n",
    "    #constructor\n",
    "    def __init__(self, name, age, major):\n",
    "        self.name = name\n",
    "        self.age = age\n",
    "        self.major = major\n",
    "        self.grades = []\n",
    "        self.grades2 = []\n",
    "    \n",
    "    def getName(self):\n",
    "        return self.name\n",
    "    \n",
    "    def addGrade(self, grade):\n",
    "        self.grades.append(grade)\n",
    "\n",
    "    def addGrade2(self, grade, course):\n",
    "        self.grades2.append((grade, course))\n",
    "\n",
    "    def average(self):\n",
    "        total = sum(self.grades)\n",
    "        avg = total / len(self.grades)\n",
    "        return avg\n",
    "\n",
    "    def average2(self):\n",
    "        total = 0\n",
    "        for clss in self.grades2:\n",
    "            total += clss[0]\n",
    "        avg = total / len(self.grades2)\n",
    "        return avg\n",
    "    \n",
    "    def print(self):\n",
    "        print(f'Name: {self.name}, Age: {self.age}, Major: {self.major}, Average: {self.average()}!')\n",
    "        \n",
    "    def print2(self):\n",
    "        print(f'Name: {self.name}, Age: {self.age}, Major: {self.major}, Average: {self.average2()}!')\n",
    "\n",
    "    # overloads string so it can be used as print\n",
    "    def __str__(self):\n",
    "        return_string = \"Name: \" + self.name + \", Age: \" + str(self.age)  + \", Major: \" + str(self.major) + \", Average: \" + str(self.average())\n",
    "        return return_string\n",
    "\n",
    "\n",
    "\n",
    "    "
   ]
  },
  {
   "cell_type": "code",
   "execution_count": 84,
   "metadata": {},
   "outputs": [
    {
     "name": "stdout",
     "output_type": "stream",
     "text": [
      "Class: Science, Semester: Fall, Year: 2013\n",
      "Name: Bob, Age: 99, Major: Science, Average: 59.0\n",
      "Name: Greg, Age: 50, Major: Science, Average: 55.0\n",
      "Name: Sarah, Age: 15, Major: Japanese, Average: 36.333333333333336\n",
      "Science Class Average: 50.111111111111114\n"
     ]
    }
   ],
   "source": [
    "bobby = Student('Bob', 99, \"Science\")\n",
    "sarah = Student('Sarah', 15, \"Japanese\")\n",
    "greg = Student(\"Greg\", 50, \"Science\")\n",
    "\n",
    "bobby.addGrade(random.randint(0, 100))\n",
    "bobby.addGrade(random.randint(0, 100))\n",
    "bobby.addGrade(random.randint(0, 100))\n",
    "bobby.addGrade(random.randint(0, 100))\n",
    "\n",
    "sarah.addGrade(random.randint(0, 100))\n",
    "sarah.addGrade(random.randint(0, 100))\n",
    "sarah.addGrade(random.randint(0, 100))\n",
    "\n",
    "greg.addGrade(random.randint(0, 100))\n",
    "greg.addGrade(random.randint(0, 100))\n",
    "greg.addGrade(random.randint(0, 100))\n",
    "\n",
    "science = ClassSection(\"Science\", 'Fall', 2013)\n",
    "science.addStudent(bobby)\n",
    "science.addStudent(greg)\n",
    "science.addStudent(sarah)\n",
    "\n",
    "science.printRoster()\n",
    "\n",
    "scienceAverage = ClassSection.classAverage(science)\n",
    "print(\"Science Class Average:\", scienceAverage)\n",
    "\n"
   ]
  },
  {
   "cell_type": "code",
   "execution_count": 85,
   "metadata": {},
   "outputs": [
    {
     "name": "stdout",
     "output_type": "stream",
     "text": [
      "Class: Chill, Semester: Winter, Year: 2024\n",
      "Name: Ami, Age: 20, Major: Business, Average: 62.0\n",
      "Name: Yugi, Age: 25, Major: Nanotech, Average: 47.0\n",
      "Name: Rex, Age: 21, Major: Computer Science, Average: 41.0\n",
      "Chill average: 50.0\n",
      "Class: Chill, Semester: Winter, Year: 2024\n",
      "Name: Ami, Age: 20, Major: Business, Average: 62.0\n",
      "Name: Rex, Age: 21, Major: Computer Science, Average: 41.0\n"
     ]
    }
   ],
   "source": [
    "ami = Student('Ami', 20, \"Business\")\n",
    "rex = Student('Rex', 21, \"Computer Science\")\n",
    "yugi = Student(\"Yugi\", 25, \"Nanotech\")\n",
    "\n",
    "\n",
    "ami.addGrade(random.randint(0, 100))\n",
    "ami.addGrade(random.randint(0, 100))\n",
    "ami.addGrade(random.randint(0, 100))\n",
    "ami.addGrade(random.randint(0, 100))\n",
    "ami.addGrade(random.randint(0, 100))\n",
    "\n",
    "\n",
    "rex.addGrade(random.randint(0, 100))\n",
    "rex.addGrade(random.randint(0, 100))\n",
    "rex.addGrade(random.randint(0, 100))\n",
    "rex.addGrade(random.randint(0, 100))\n",
    "rex.addGrade(random.randint(0, 100))\n",
    "\n",
    "yugi.addGrade(random.randint(0,100))\n",
    "yugi.addGrade(random.randint(0,100))\n",
    "yugi.addGrade(random.randint(0,100))\n",
    "yugi.addGrade(random.randint(0,100))\n",
    "yugi.addGrade(random.randint(0,100))\n",
    "\n",
    "chillClass = ClassSection(\"Chill\", \"Winter\", 2024, [ami,yugi,rex])\n",
    "\n",
    "chillClass.printRoster()\n",
    "chillAverage = ClassSection.classAverage(chillClass)\n",
    "print(\"Chill average:\", chillAverage)\n",
    "chillClass.dropStudent(yugi)\n",
    "chillClass.printRoster()"
   ]
  },
  {
   "cell_type": "code",
   "execution_count": null,
   "metadata": {},
   "outputs": [],
   "source": []
  }
 ],
 "metadata": {
  "kernelspec": {
   "display_name": "ml_env",
   "language": "python",
   "name": "python3"
  },
  "language_info": {
   "codemirror_mode": {
    "name": "ipython",
    "version": 3
   },
   "file_extension": ".py",
   "mimetype": "text/x-python",
   "name": "python",
   "nbconvert_exporter": "python",
   "pygments_lexer": "ipython3",
   "version": "3.12.4"
  },
  "orig_nbformat": 4
 },
 "nbformat": 4,
 "nbformat_minor": 2
}
