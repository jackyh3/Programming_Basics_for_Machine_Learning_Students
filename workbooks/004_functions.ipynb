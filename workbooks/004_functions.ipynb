{
 "cells": [
  {
   "attachments": {},
   "cell_type": "markdown",
   "metadata": {},
   "source": [
    "# Functions\n",
    "\n",
    "Functions are something we've been using all along, they allow us to write a generic block of code that can be reused for all kinds of different purposes. If we write code to add tax to a sale, combine first and last names, or convert between inches and cm, the actual functionality of that code is always the same, just with different details, or inputs. A function allows us to write all the generic code that is ready to accept inputs, does it's job, and spits out an output. \n",
    "\n",
    "## Defining Functions\n",
    "\n",
    "Creating a function is pretty simple, there are a few things we need to think of:\n",
    "<ul>\n",
    "<li> Function name - as with variables, we want a name that makes sense. The name can be almost anything, but we want it to make sense. </li>\n",
    "<li> Inputs/Parameters - these are the values that are supplied by the person <i>using</i> the function.</li> This changes (potentially) every time the function runs. \n",
    "<li> Body - the code that we want to reuse over and over.</li>\n",
    "<li> Output/Return Value - this is the value that the function \"returns\" or the end result. Not every function needs to return a value, some just do stuff. </li>\n",
    "</ul>\n",
    "\n",
    "For example, if we have a function to add the tax to a price, or parts break down as:\n",
    "<ul>\n",
    "<li> Function name - addTax. </li>\n",
    "<li> Parameters - the price of the object and the tax rates. These things can change to anything. </li>\n",
    "<li> Body - calculate the tax and new price. </li>\n",
    "<li> Return value - the newly calculated total price.</li>\n",
    "</ul>\n",
    "\n",
    "We have to define our function first, then we can use it. "
   ]
  },
  {
   "cell_type": "code",
   "execution_count": 9,
   "metadata": {},
   "outputs": [],
   "source": [
    "def addTax(price, taxRate):\n",
    "    total = price + (price * taxRate)\n",
    "    return total"
   ]
  },
  {
   "cell_type": "markdown",
   "metadata": {},
   "source": [
    "#### Calling a Function\n",
    "\n",
    "We can call, or use, a function by typing the name and supplying the parameters. Note that the parameters that we supply can be either in order, or we can specify which parameter is which. If we specify which parameter is which, we can supply them in any order.\n",
    "\n",
    "<b>Note:</b> we commonly see functions that we import using a full \"path\" to the function, like <code>math.sqrt()</code>. This is because the function is part of a module, and we need to tell Python where to find it inside the \"math\" package. Everything else is the same. "
   ]
  },
  {
   "cell_type": "code",
   "execution_count": 10,
   "metadata": {},
   "outputs": [
    {
     "name": "stdout",
     "output_type": "stream",
     "text": [
      "88.48\n",
      "119.84\n"
     ]
    }
   ],
   "source": [
    "print(addTax(79, 0.12))\n",
    "\n",
    "obj_price = 112\n",
    "gst_rate = 0.07\n",
    "\n",
    "print(addTax(obj_price, gst_rate))"
   ]
  },
  {
   "cell_type": "code",
   "execution_count": 11,
   "metadata": {},
   "outputs": [
    {
     "name": "stdout",
     "output_type": "stream",
     "text": [
      "119.84\n"
     ]
    }
   ],
   "source": [
    "# functions with MULTIPLE paramaters, especially with optional ones\n",
    "# may be better to specifiy what parameter \n",
    "print(addTax(taxRate=gst_rate, price=obj_price))"
   ]
  },
  {
   "cell_type": "markdown",
   "metadata": {},
   "source": [
    "## Void vs. Fruitful Functions\n",
    "\n",
    "The return value that we added above is an example of a \"fruitful\" function, as the book labels it, it is a function that returns some value. We can also have a \"void\" function, which does not return a value. These functions are used to do something, like print, but not return anything.\n",
    "\n",
    "When using a fruitful function, the function call in the code will \"become\" the return value, so we can set a variable to the result of that function call. This is commonly what we want to do with such functions. "
   ]
  },
  {
   "cell_type": "code",
   "execution_count": 12,
   "metadata": {},
   "outputs": [
    {
     "name": "stdout",
     "output_type": "stream",
     "text": [
      "119.84\n"
     ]
    }
   ],
   "source": [
    "price_with_tax = addTax(obj_price, gst_rate)\n",
    "print(price_with_tax)"
   ]
  },
  {
   "cell_type": "markdown",
   "metadata": {},
   "source": [
    "#### Void Function Example\n",
    "\n",
    "We can make a similar function to the tax one above, but void. Since we aren't returning the \"answer\" as a return value, we need to use that value for whatever we need it for inside the function. Note that when we attempt to set a variable to the result of the function, it doesn't work as before, because the function doesn't return anything. \n",
    "\n",
    "We can have a function that returns a value, but we don't have to use it. We can just call the function and ignore the return value. This approach is probably better in most cases where we may write a void function - do the \"thing\" and also return the results, if the user wants to ignore them, no problem. We also sometimes have functions which do some action, then return a status code, like 1 for success, 0 for failure."
   ]
  },
  {
   "cell_type": "code",
   "execution_count": 2,
   "metadata": {},
   "outputs": [],
   "source": [
    "def addTaxVoid(price, taxRate):\n",
    "    total = price + (price * taxRate)\n",
    "    print(total)"
   ]
  },
  {
   "cell_type": "code",
   "execution_count": 3,
   "metadata": {},
   "outputs": [
    {
     "name": "stdout",
     "output_type": "stream",
     "text": [
      "88.48\n",
      "None\n"
     ]
    }
   ],
   "source": [
    "tmp = addTaxVoid(79, 0.12)\n",
    "print(tmp)"
   ]
  },
  {
   "cell_type": "markdown",
   "metadata": {},
   "source": [
    "## Exercise\n",
    "\n",
    "Define a function that takes in two arguments - a price and a discount rate. The function should return the new price after the discount is applied. Think about what the function should be called, what the parameters should be, what the return value should be, and what may be tested to ensure that it works correctly. \n",
    "\n",
    "If this is easy, return a tuple of new price and discount amount, in your function call, print the two results on two separate lines."
   ]
  },
  {
   "cell_type": "code",
   "execution_count": 11,
   "metadata": {},
   "outputs": [
    {
     "name": "stdout",
     "output_type": "stream",
     "text": [
      "9.5\n"
     ]
    }
   ],
   "source": [
    "# Create discount function\n",
    "def discount(price, discountRate):\n",
    "    new_price = price * (1-discountRate*0.01)\n",
    "    return new_price\n",
    "\n",
    "\n",
    "# testing\n",
    "price = 10.00\n",
    "dR = 5\n",
    "print(discount(price, dR))\n",
    "\n",
    "# tuple version\n",
    "def discount(price, discountRate):\n",
    "    discount_amount = price * (discountRate * 0.01)\n",
    "    new_price = price - discount_amount\n",
    "\n",
    "    print(\"Discount: \", discount_amount)\n",
    "    print(\"Sale Price: \", new_price)\n",
    "    return (new_price, discount_amount)\n",
    "\n",
    "\n"
   ]
  },
  {
   "cell_type": "code",
   "execution_count": 12,
   "metadata": {},
   "outputs": [
    {
     "name": "stdout",
     "output_type": "stream",
     "text": [
      "Discount:  5.0\n",
      "Sale Price:  95.0\n",
      "Discount:  0.0\n",
      "Sale Price:  100.0\n",
      "Discount:  100.0\n",
      "Sale Price:  0.0\n",
      "Discount:  50.0\n",
      "Sale Price:  50.0\n"
     ]
    }
   ],
   "source": [
    "d1 = discount(100, 5)\n",
    "d2 = discount(100, 0)\n",
    "d3 = discount(100, 100)\n",
    "d4 = discount(100, 50)\n"
   ]
  },
  {
   "cell_type": "markdown",
   "metadata": {},
   "source": [
    "### Variable Scope\n",
    "\n",
    "One thing to be aware of with functions is the availability of variables that we declare inside the function, this is called the \"scope\" of the variable. We'll look more at scope later, but the basic loops are a good direct example of this. Scope refers to where a variable exists. For most of the random variables we've declared so far, they exist everywhere in the notebook. For example, if we declare a variable in a cell, we can use it in any other cell.\n",
    "\n",
    "Inside the functions we create, we can declare variables that are only available inside the function. This is a good thing, it means we can use the same variable names inside functions without worrying about them conflicting with other variables. In essence, the innards of the function are a separate world from the rest of the notebook. \n",
    "\n",
    "#### Scope Levels\n",
    "\n",
    "We can define the different scope levels as:\n",
    "<ul>\n",
    "<li> Global - these variables are available everywhere in the notebook. Things you declare \"outside\" of any functions are global. </li>\n",
    "<li> Enclosing - if we have nested functions, things on the outer layers are available on the inside, but the reverse is not true. </li>\n",
    "<li> Local - these variables are only available inside the function where they are declared </li>\n",
    "</ul>\n",
    "\n",
    "![Scope](../images/var_scope.webp \"Scope\")\n",
    "\n",
    "When we have functions we'll introduce scopes into our consideration. We need to be clear about which variables are available where. When our code is looking for a variable, it'll work from the inside-out, or bottom up on out list - it will look to local, then enclosed, then global to find a variable. We can reuse variable names in different scopes without worrying about them conflicting, but we should still consider if it makes sense logically. It is common for us to reuse variables in different scopes from function to function, especially generically named ones like loop counters or parameters. We should be careful of overlapping names where the scope resolution can conflict - for example, the image above the reuses x works, but is hard to understand. "
   ]
  },
  {
   "cell_type": "markdown",
   "metadata": {},
   "source": [
    "## What to do in a Function?\n",
    "\n",
    "Where, why, and when should we use functions? The answer is pretty simple, whenever we have a block of code that we want to reuse. More aggressively, if we have a specific thing we want to accomplish, we can write a function to do it. Placing our code into functions is never strictly necessary, but it's usually a good idea for a few reasons:\n",
    "<ul>\n",
    "<li> It makes our code more readable. Rather than having all details, the main portion of our code can have higher level abstractions - e.g. \"len\" rather than code that counts the number of letters in a string. </li>\n",
    "<li> It makes our code more reusable. If our code is in a function, we can easily use it in many places with little effort. </li>\n",
    "<li> It makes our code more modular. Individual functions can be added, removed, rearranged, or replaced without impacting the rest of the code. </li>\n",
    "<li> It makes our code more testable. We can verify that a function does what it does, then trust in that when creating larger applications. </li>\n",
    "</ul>\n",
    "\n",
    "It is possible to write code that does everything in one big block, but it's not a good idea. It's much better to break things down into smaller pieces that are easier to understand and test. It is a good rule of thumb to put anything that we might want to do more than once, anything that requires many steps to do one \"thing\", or anything with a defined input and output into a function. You'll rarely go wrong by putting code into a function."
   ]
  },
  {
   "cell_type": "markdown",
   "metadata": {},
   "source": [
    "## Exercise\n",
    "\n",
    "Create a function that takes in a string and returns the first, middle, and last characters of the string in a new string. Think in particular about testing when writing this, as there are definitely design decisions and edge cases to consider."
   ]
  },
  {
   "cell_type": "code",
   "execution_count": 19,
   "metadata": {},
   "outputs": [],
   "source": [
    "# Write function\n",
    "def firstMiddleLast(input):\n",
    "    length = len(input)\n",
    "    midSection = length // 2\n",
    "\n",
    "    first = input[0]\n",
    "    # consider middle of even length then what's the middle? \n",
    "    if length % 2 == 0:\n",
    "        # both for even\n",
    "        middle = input[midSection] + input[midSection + 1]\n",
    "    elif length % 2 != 0:\n",
    "        # singular for odd\n",
    "        middle = input[midSection]\n",
    "    last = input[-1]\n",
    "\n",
    "    new_string = first + middle + last\n",
    "    return new_string"
   ]
  },
  {
   "cell_type": "code",
   "execution_count": 20,
   "metadata": {},
   "outputs": [
    {
     "name": "stdout",
     "output_type": "stream",
     "text": [
      "jcy\n",
      "Had\n",
      "134\n",
      "1456\n"
     ]
    }
   ],
   "source": [
    "s1 = firstMiddleLast(\"jacky\")\n",
    "s2 = firstMiddleLast(\"Hello my dearest friend\")\n",
    "s3 = firstMiddleLast(\"1113444\")\n",
    "\n",
    "# even\n",
    "s4 = firstMiddleLast(\"123456\")\n",
    "\n",
    "print(s1)\n",
    "print(s2)\n",
    "print(s3)\n",
    "print(s4)"
   ]
  },
  {
   "cell_type": "markdown",
   "metadata": {},
   "source": [
    "## Exercise\n",
    "\n"
   ]
  },
  {
   "attachments": {},
   "cell_type": "markdown",
   "metadata": {},
   "source": [
    "## Importing Outside Functions\n",
    "\n",
    "When we are using things like len(), type(), or pretty much anything else, we are using a function that was made by someone else and borrowed by us. We can also reuse our own functions in a similar way. \n",
    "\n",
    "In general, we want to put things that we want to repeat into functions, it makes our code easier to maintain, understand, and debug. If we figure out some code to perform a calculation or print a set of charts we can wrap that code in a function to allow us to repurpose it - we can perform the same calculation with any set of values, or print charts from any set of data. As well, as our functions get more complex, functions allow us to only write the complex part of our code once, so if we ever need to modify it or correct some error, that change applies everywhere the function is used and we don't need to hunt down multiple corrections. \n",
    "\n",
    "### Import Statements\n",
    "\n",
    "Import statements allow us to load in other files of code, or entire libraries of code, to use their functions without having to write them ourseleves. We can import almost anything, but the most common things that we may pull in are:\n",
    "<ul>\n",
    "<li> Premade Libraries</li>\n",
    "<li> Selfmade Helpers</li>\n",
    "</ul>\n",
    "\n",
    "Importing either just needs the import statement, along with the name of what we're importing. For the libraries that we use for most things, we can just search for the correct name, for example we can import the \"math\" library to do some math-y stuff like take a square root. We can also put our own functions in a python (.py) file that is in the same folder as our file, and import that; I've made the tax function above into addMyTax in the helper.py file. \n",
    "\n",
    "When using some larger libraries that have many types of functions, it is common for us to only import certain parts or packages from a larger library. This will be very common with the large data science packages, and is fairly common in examples online where things are imported. For example, sklearn is a very common data science library that we'll use all the time later on, it has many packages inside it to do different types of things. For example below, I imported the \"metrics\" package only from the sklearn library, then used the \"accuracy_score\" function from that package. This is not super common for us now, but it will be later on and in stats. "
   ]
  },
  {
   "cell_type": "code",
   "execution_count": 21,
   "metadata": {},
   "outputs": [
    {
     "data": {
      "text/plain": [
       "0.5"
      ]
     },
     "execution_count": 21,
     "metadata": {},
     "output_type": "execute_result"
    }
   ],
   "source": [
    "# import from internet, with name as ms\n",
    "'''\n",
    "imported from pypi registry\n",
    "thus we can upload there to share our own library\n",
    "'''\n",
    "import sklearn.metrics as ms\n",
    "ms.accuracy_score([0,0,1,1], [1,1,1,1])"
   ]
  },
  {
   "cell_type": "code",
   "execution_count": 22,
   "metadata": {},
   "outputs": [
    {
     "name": "stdout",
     "output_type": "stream",
     "text": [
      "3.0\n"
     ]
    }
   ],
   "source": [
    "import math\n",
    "print(math.sqrt(9))"
   ]
  },
  {
   "cell_type": "markdown",
   "metadata": {},
   "source": [
    "#### Import Local Files\n",
    "\n",
    "We can import our personal helper files in the exact same way, they just need to be in the same folder as our notebook."
   ]
  },
  {
   "cell_type": "code",
   "execution_count": 23,
   "metadata": {},
   "outputs": [
    {
     "ename": "NameError",
     "evalue": "name 'obj_price' is not defined",
     "output_type": "error",
     "traceback": [
      "\u001b[1;31m---------------------------------------------------------------------------\u001b[0m",
      "\u001b[1;31mNameError\u001b[0m                                 Traceback (most recent call last)",
      "Cell \u001b[1;32mIn[23], line 2\u001b[0m\n\u001b[0;32m      1\u001b[0m \u001b[38;5;28;01mimport\u001b[39;00m \u001b[38;5;21;01mhelper\u001b[39;00m\n\u001b[1;32m----> 2\u001b[0m helper\u001b[38;5;241m.\u001b[39maddMyTax(\u001b[43mobj_price\u001b[49m, gst_rate)\n",
      "\u001b[1;31mNameError\u001b[0m: name 'obj_price' is not defined"
     ]
    }
   ],
   "source": [
    "# helper is a local file, 'helper.py'\n",
    "import helper\n",
    "helper.addMyTax(obj_price, gst_rate)"
   ]
  },
  {
   "attachments": {},
   "cell_type": "markdown",
   "metadata": {},
   "source": [
    "### Building Helper Files\n",
    "\n",
    "One recommendation is to build up something like that helper file with things you may use repeatedly and import it to make your life easier. A helper function is simple to make, it can just be a .py file that has a series of function definitions in it. There is a sample helper.py file in the same folder as this notebook, you can open it up to see how it works, then repurpose it for your own use. To import it, we just need to make sure the file is in the same folder, use the import statement to import it, then we can use the functions inside it by calling them with the dot notation - \"helper.functionName()\".\n",
    "\n",
    "If you're dedicated and obsessive, you can also build up a library of functions that you use regularly, modify those functions to be more flexible as you learn, and save yourself a lot of time and effort. As you get into the data science and statistics stuff, there are many plotting, exploring, and analysis functions that you'll use over and over, building functions that so the heavy lifting for you can save a lot of time in the long run. "
   ]
  },
  {
   "cell_type": "code",
   "execution_count": 24,
   "metadata": {},
   "outputs": [],
   "source": [
    "# the -> indicates what is being returned (but does not enforce that it is returning a float)\n",
    "# helps with readability\n",
    "def add_Taxes(price, gst_rate=0.07, pst_rate=0.05) -> float:\n",
    "    gst = price * gst_rate\n",
    "    pst = price * pst_rate\n",
    "    total = price + gst + pst\n",
    "    return total"
   ]
  },
  {
   "cell_type": "code",
   "execution_count": 25,
   "metadata": {},
   "outputs": [
    {
     "data": {
      "text/plain": [
       "119.0"
      ]
     },
     "execution_count": 25,
     "metadata": {},
     "output_type": "execute_result"
    }
   ],
   "source": [
    "# using...\n",
    "add_Taxes(100, pst_rate=0.12)\n",
    "\n",
    "# no defaults MUST be first, because the order matters\n",
    "# add_Taxes(100, gst_rate=0.12, 0.25)\n",
    "# ABOVE DOES NOT WORK because the order must be respected"
   ]
  }
 ],
 "metadata": {
  "kernelspec": {
   "display_name": "ml_env",
   "language": "python",
   "name": "python3"
  },
  "language_info": {
   "codemirror_mode": {
    "name": "ipython",
    "version": 3
   },
   "file_extension": ".py",
   "mimetype": "text/x-python",
   "name": "python",
   "nbconvert_exporter": "python",
   "pygments_lexer": "ipython3",
   "version": "3.12.4"
  },
  "orig_nbformat": 4
 },
 "nbformat": 4,
 "nbformat_minor": 2
}
