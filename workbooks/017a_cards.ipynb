{
 "cells": [
  {
   "cell_type": "code",
   "execution_count": 453,
   "metadata": {},
   "outputs": [],
   "source": [
    "import random\n",
    "import pandas as pd"
   ]
  },
  {
   "cell_type": "markdown",
   "metadata": {},
   "source": [
    "# Cards\n",
    "\n",
    "Let's make a poker game, or at least part of it. Our goal will ultimately be to create a game of 5 card draw poker. For now, we'll try to create a deck of cards, and hands for the players that inherit from the deck. So, we should have 3 classes for this stage: Card, Deck, and Hand:\n",
    "<ul>\n",
    "<li> Card</li>\n",
    "    <ul>\n",
    "    <li> A card is one individual card, made up of a Suit and a Rank (ace, two, three...queen, etc...)</li>\n",
    "    <li> A card needs to provide str, lt, gt, eq to allow for comparisons and printing. </li>\n",
    "    </ul>\n",
    "<li> Deck</li>\n",
    "    <ul>\n",
    "    <li> A deck is made up of a bunch of cards. </li>\n",
    "    <li> A deck needs to be able to be initialized - here we want to fill it with 52 cards and potentially shuffle it.</li>\n",
    "    <li> A deck needs to have a str and len method override. </li>\n",
    "    <li> A deck needs to be able to deal out cards into smaller decks, of whatever number is requested. </li>\n",
    "    </ul>\n",
    "<li> Hand</li>\n",
    "    <ul>\n",
    "    <li> The hand class inheirits from the deck class and represents a \"mini-deck\" of five cards (we're building a 5 card poker deck for now, later on we'll change this\n",
    "    up a bit to make this into a five_card_poker deck, and that'll allow us to make other decks that inheirit from the Deck class but make sense for different games).</li>\n",
    "    <li> The hand needs to define a lt method, that can act to do a comparison for determining which had wins, in the context of poker. This can be wrong! We need a system for scoring that functions, we can make it poker-y later. </li>\n",
    "    </ul>\n",
    "</ul>\n",
    "\n",
    "Underneath the spot we have to make the classes, there is a bunch of stuff to test and see if it works is there. This testing is limited, we should try to create more to really test things here - if we are going to build this up into an actual game of poker (and we intend to), we should make sure that things work first, especially the edge cases.\n",
    "\n",
    "<b>Note:</b> a full game of poker, especially the part of calculating who wins, is actually reasonably complex. That part isn't really critically important, if we make some error in the calculation of which three of a kind tie-breaker <i>actually</i> wins, it isn't a big deal. The important point is that we can create a deck that works - even if there's some tiny error in the exact logic. We can always fix that later In reality, game logic errors are something we'd notice in user testing, where we would be actually playing to make sure it works, and at some point we'd see that the wrong player won some hand, and we'd have to go back and fix it. This is a bit of agile thinking, right now we're in sprint number one. \n",
    "\n",
    "### Design Choices\n",
    "\n",
    "While we make this, there are many choices that we need to make, and many of them don't have a super clear answer. This is normal and OK here. We want to focus on - what does it need to do? Can it do it? It is OK to have something that half works, we can revise. Some things to pay particular attention to are:\n",
    "<ul>\n",
    "<li> Where something should \"live\" - there are lots of actions here that could be done by the deck, or the hand, or the card. We need to think about where it makes sense to put them. </li>\n",
    "<li> How to represent things - we could represent a card as a string, or as a tuple, or as a class. We could represent a deck as a list of cards, or as a class. We could represent a hand as a list of cards, or as a class. We need to think about what makes sense. </li>\n",
    "<li> How to do things - we could shuffle a deck by making a new deck and randomly drawing cards from the old deck and putting them in the new deck, or we could shuffle the deck in place. We could sort a hand by making a new hand and drawing cards from the old hand and putting them in the new hand, or we could sort the hand in place. We need to think about what makes sense. </li>\n",
    "<li> Constructing a new deck - we have different scenarios where a deck will be created, how do we want to handle that? </li>\n",
    "</ul>\n",
    "\n",
    "All of these things are somewhat open - we can make a choice that works, go with it, then change it if we encounter something that doesn't work. If our code is relatively modular, with well encapsulated classes and methods, we can change things without too much difficulty. \n",
    "\n",
    "### Goal For Now\n",
    "\n",
    "Right now we want to be able to have a deck, deal some hands out of it, and compare those hands to each other. The comparison part should be based on actual poker logic, but it is ok if that logic is incomplete or wrong - we just need some systemic way to compare hands and order them by their value. "
   ]
  },
  {
   "cell_type": "markdown",
   "metadata": {},
   "source": [
    "### Potentially Useful Notes\n",
    "\n",
    "#### Pop()\n",
    "\n",
    "An item can be grabbed from a list, and removed from that list, with the pop() method. \n",
    "\n",
    "#### Random.shuffle()\n",
    "\n",
    "Random.shuffle() can be used to shuffle a list to random order. \n",
    "\n",
    "#### Make an Iterable\n",
    "\n",
    "Our deck class should be an iterable - i.e. we should be able to loop through it like we could a list or other container. For a class to work as an iterable we need to define two methods:\n",
    "<ul>\n",
    "<li> __iter__ </li>\n",
    "    <ul>\n",
    "    <li> Iter returns the iterator, or the object itself. </li>\n",
    "    </ul>\n",
    "<li> __next__ </li>\n",
    "    <ul>\n",
    "    <li> Next returns the next item. </li>\n",
    "    </ul>\n",
    "</ul>\n",
    "\n",
    "If we implement these two methods, we'll have an item that can work as an iterable. The iter method is simple, we just return the object. The next method is the bulk of the functionality, it needs to always provide the next item in the iterable. If there are no more items, it needs to raise a StopIteration exception. If we have an object that is holding its data in something like a list or tuple, we can do this pretty easily - just ask the existing container for its next item, and raise a StopIteration exception if there are no more items."
   ]
  },
  {
   "cell_type": "code",
   "execution_count": 21,
   "metadata": {},
   "outputs": [],
   "source": [
    "\n",
    "class Card():\n",
    "    \"\"\"\n",
    "    Attributes:\n",
    "        suit: suit of card\n",
    "        rank: number of card\n",
    "    Methods:\n",
    "        init\n",
    "        str\n",
    "        repr\n",
    "        eq\n",
    "        lt\n",
    "    \"\"\"\n",
    "    suits = ['Clubs', 'Diamonds', 'Hearts', 'Spades']\n",
    "    ranks = ['Two', 'Three', 'Four', 'Five', 'Six', 'Seven', 'Eight', 'Nine', 'Ten', 'Jack', 'Queen', 'King', 'Ace']\n",
    "    def __init__(self, suit, rank):\n",
    "        if suit not in Card.suits:\n",
    "            raise ValueError(f'{suit} does not exist')\n",
    "        else:\n",
    "            self._suit = suit\n",
    "        if rank not in Card.ranks:\n",
    "            raise ValueError(f'{rank} does not exist')\n",
    "        else:\n",
    "            self._rank = rank\n",
    "\n",
    "    @property\n",
    "    def suit(self):\n",
    "        return self._suit\n",
    "    \n",
    "    @property\n",
    "    def rank(self):\n",
    "        return self._rank\n",
    "    \n",
    "    def __str__(self) -> str:\n",
    "        return f'{self.rank} of {self.suit}'\n",
    "    \n",
    "    # note, less than must be coded first\n",
    "    def __lt__(self, other):\n",
    "        index_rank_self = Card.ranks.index(self.rank)\n",
    "        index_rank_other = Card.ranks.index(other.rank)\n",
    "        index_suit_self = Card.suits.index(self.suit)\n",
    "        index_suit_other = Card.suits.index(other.suit)        \n",
    "\n",
    "        if index_rank_self < index_rank_other:\n",
    "            return True\n",
    "        elif index_rank_self == index_rank_other:\n",
    "            if index_suit_self < index_suit_other:\n",
    "                return True\n",
    "            else:\n",
    "                return False\n",
    "        else:\n",
    "            return False\n",
    "\n",
    "    def __eq__(self, other):\n",
    "        index_rank_self = Card.ranks.index(self.rank)\n",
    "        index_rank_other = Card.ranks.index(other.rank)\n",
    "        index_suit_self = Card.suits.index(self.suit)\n",
    "        index_suit_other = Card.suits.index(other.suit)       \n",
    "        return index_suit_self == index_suit_other and  index_rank_self == index_rank_other\n",
    "\n"
   ]
  },
  {
   "cell_type": "markdown",
   "metadata": {},
   "source": [
    "Test the card a bit..."
   ]
  },
  {
   "cell_type": "code",
   "execution_count": 27,
   "metadata": {},
   "outputs": [
    {
     "name": "stdout",
     "output_type": "stream",
     "text": [
      "Two of Hearts\n",
      "Seven of Hearts\n"
     ]
    }
   ],
   "source": [
    "card_1 = Card('Hearts', 'Two')\n",
    "card_2 = Card('Hearts', 'Seven')\n",
    "print(card_1)\n",
    "print(card_2)"
   ]
  },
  {
   "cell_type": "code",
   "execution_count": 28,
   "metadata": {},
   "outputs": [
    {
     "name": "stdout",
     "output_type": "stream",
     "text": [
      "False\n",
      "True\n"
     ]
    }
   ],
   "source": [
    "print(card_2 < card_1)\n",
    "print(card_1 < card_2)"
   ]
  },
  {
   "cell_type": "code",
   "execution_count": 32,
   "metadata": {},
   "outputs": [
    {
     "name": "stdout",
     "output_type": "stream",
     "text": [
      "False\n",
      "True\n"
     ]
    }
   ],
   "source": [
    "card_3 = Card('Diamonds', 'Two')\n",
    "print(card_1 == card_3)\n",
    "print(card_1 < card_3)"
   ]
  },
  {
   "cell_type": "code",
   "execution_count": 39,
   "metadata": {},
   "outputs": [],
   "source": [
    "\n",
    "\n",
    "class Deck():\n",
    "    def __init__(self):\n",
    "        self._deck = []\n",
    "        self.__createDeck()\n",
    "\n",
    "    @property\n",
    "    def deck(self):\n",
    "        return self._deck\n",
    "\n",
    "    def shuffle(self):\n",
    "        random.shuffle(self._deck)\n",
    "\n",
    "    def dealCard(self):\n",
    "        '''\n",
    "        Returns:\n",
    "            'top' card of deck\n",
    "        '''\n",
    "        return self.deck.pop()\n",
    "    \n",
    "    def dealHands(self, hands = 4, cards = 5):\n",
    "        dealHands = []\n",
    "        for i in range(hands):\n",
    "            hand = []\n",
    "            for j in range(cards):\n",
    "                hand.append(self.dealCard())\n",
    "            dealHands.append(hand)\n",
    "        return dealHands\n",
    "\n",
    "    def __createDeck(self):\n",
    "        for suit in Card.suits:\n",
    "            for rank in Card.ranks:\n",
    "                self._deck.append(Card(suit, rank))\n",
    "    \n",
    "    def __str__(self):\n",
    "        count = 0\n",
    "        string = ''\n",
    "        for card in self._deck:\n",
    "            string += card.__str__() + '\\n'\n",
    "            count += 1\n",
    "        return f'Deck of {count} cards\\n{string}'\n",
    "    "
   ]
  },
  {
   "cell_type": "markdown",
   "metadata": {},
   "source": [
    "Test the Deck a bit..."
   ]
  },
  {
   "cell_type": "code",
   "execution_count": 40,
   "metadata": {},
   "outputs": [
    {
     "name": "stdout",
     "output_type": "stream",
     "text": [
      "Deck of 52 cards\n",
      "Two of Clubs\n",
      "Three of Clubs\n",
      "Four of Clubs\n",
      "Five of Clubs\n",
      "Six of Clubs\n",
      "Seven of Clubs\n",
      "Eight of Clubs\n",
      "Nine of Clubs\n",
      "Ten of Clubs\n",
      "Jack of Clubs\n",
      "Queen of Clubs\n",
      "King of Clubs\n",
      "Ace of Clubs\n",
      "Two of Diamonds\n",
      "Three of Diamonds\n",
      "Four of Diamonds\n",
      "Five of Diamonds\n",
      "Six of Diamonds\n",
      "Seven of Diamonds\n",
      "Eight of Diamonds\n",
      "Nine of Diamonds\n",
      "Ten of Diamonds\n",
      "Jack of Diamonds\n",
      "Queen of Diamonds\n",
      "King of Diamonds\n",
      "Ace of Diamonds\n",
      "Two of Hearts\n",
      "Three of Hearts\n",
      "Four of Hearts\n",
      "Five of Hearts\n",
      "Six of Hearts\n",
      "Seven of Hearts\n",
      "Eight of Hearts\n",
      "Nine of Hearts\n",
      "Ten of Hearts\n",
      "Jack of Hearts\n",
      "Queen of Hearts\n",
      "King of Hearts\n",
      "Ace of Hearts\n",
      "Two of Spades\n",
      "Three of Spades\n",
      "Four of Spades\n",
      "Five of Spades\n",
      "Six of Spades\n",
      "Seven of Spades\n",
      "Eight of Spades\n",
      "Nine of Spades\n",
      "Ten of Spades\n",
      "Jack of Spades\n",
      "Queen of Spades\n",
      "King of Spades\n",
      "Ace of Spades\n",
      "\n"
     ]
    }
   ],
   "source": [
    "deck1 = Deck()\n",
    "print(deck1)"
   ]
  },
  {
   "cell_type": "code",
   "execution_count": null,
   "metadata": {},
   "outputs": [],
   "source": [
    "class Hand(Deck):\n",
    "    pass"
   ]
  },
  {
   "cell_type": "markdown",
   "metadata": {},
   "source": [
    "Test the Hand a bit..."
   ]
  },
  {
   "cell_type": "code",
   "execution_count": null,
   "metadata": {},
   "outputs": [],
   "source": []
  },
  {
   "cell_type": "markdown",
   "metadata": {},
   "source": [
    "## Testing\n",
    "\n",
    "We should make sure that this works. "
   ]
  },
  {
   "cell_type": "markdown",
   "metadata": {},
   "source": [
    "##### Create Deck\n",
    "\n",
    "Make a new deck and see what's in it. We want one that is ready to play, so we'll want it shuffled and filled with 52 cards. "
   ]
  },
  {
   "cell_type": "code",
   "execution_count": 455,
   "metadata": {},
   "outputs": [
    {
     "name": "stdout",
     "output_type": "stream",
     "text": [
      "0: Four of Hearts\n",
      "1: Ace of Hearts\n",
      "2: Three of Clubs\n",
      "3: Eight of Diamonds\n",
      "4: Five of Diamonds\n",
      "5: Three of Diamonds\n",
      "6: Seven of Diamonds\n",
      "7: Ten of Diamonds\n",
      "8: Jack of Hearts\n",
      "9: Six of Diamonds\n",
      "10: Four of Diamonds\n",
      "11: Ace of Diamonds\n",
      "12: Eight of Spades\n",
      "13: King of Spades\n",
      "14: Five of Clubs\n",
      "15: Four of Spades\n",
      "16: Two of Hearts\n",
      "17: Four of Clubs\n",
      "18: Jack of Diamonds\n",
      "19: Queen of Diamonds\n",
      "20: Eight of Clubs\n",
      "21: Two of Clubs\n",
      "22: Nine of Hearts\n",
      "23: Ten of Clubs\n",
      "24: Queen of Hearts\n",
      "25: King of Diamonds\n",
      "26: Six of Clubs\n",
      "27: Six of Hearts\n",
      "28: Ten of Hearts\n",
      "29: Two of Spades\n",
      "30: Seven of Spades\n",
      "31: Ace of Clubs\n",
      "32: Two of Diamonds\n",
      "33: Five of Spades\n",
      "34: Eight of Hearts\n",
      "35: Jack of Spades\n",
      "36: Five of Hearts\n",
      "37: King of Clubs\n",
      "38: Seven of Hearts\n",
      "39: Seven of Clubs\n",
      "40: Queen of Clubs\n",
      "41: Nine of Spades\n",
      "42: Three of Hearts\n",
      "43: Three of Spades\n",
      "44: Six of Spades\n",
      "45: Ace of Spades\n",
      "46: King of Hearts\n",
      "47: Queen of Spades\n",
      "48: Ten of Spades\n",
      "49: Nine of Clubs\n",
      "50: Nine of Diamonds\n",
      "51: Jack of Clubs\n",
      "\n"
     ]
    }
   ],
   "source": [
    "d = Deck(shuffle=True, populate=True)\n",
    "print(d)"
   ]
  },
  {
   "cell_type": "markdown",
   "metadata": {},
   "source": [
    "##### Deal Hands, Check Score\n",
    "\n",
    "Now we should check the dealing of hands - a big one, I checked this a bunch of times while making it, running it over and over. Right now, I'm going to check for a few things:\n",
    "<ul>\n",
    "<li> The deal produces the expected results - 4 hands of 5 <i>different</i> cards each. </li>\n",
    "<li> I'll score each of the cards, based on the score logic defined in the Hand class. </li>\n",
    "<li> Below this part, I want to make sure that the cards that were dealt into hands here aren't still in the deck. </li>\n",
    "    <ul>\n",
    "    <li> We could have built something that tested the deal by making a deck, dealing cards, looking at the cards dealt and left, and verifying programatically that the cards dealt are no longer in the deck. </li>\n",
    "    <li> <b>Note for Sanity:</b> when we are testing this we need to make sure that which cells we've run is consistent. In mine, we make a deck of 52, then deal from it. If we were to accidentally do extra (or fewer) deals, refresh the deck, or other things before we check the results, we can easily break things. </li>\n",
    "    </ul>\n",
    "</ul>\n",
    "\n",
    "<b>Note:</b> the list(map) thing is because map returns a map iterator, not a list. We can convert it to a list to see the results."
   ]
  },
  {
   "cell_type": "code",
   "execution_count": 456,
   "metadata": {},
   "outputs": [
    {
     "name": "stdout",
     "output_type": "stream",
     "text": [
      "1\n",
      "0: Ten of Spades\n",
      "1: Queen of Spades\n",
      "2: Nine of Clubs\n",
      "3: Jack of Clubs\n",
      "4: Nine of Diamonds\n",
      "\n",
      "2\n",
      "0: Three of Spades\n",
      "1: Six of Spades\n",
      "2: Ace of Spades\n",
      "3: King of Hearts\n",
      "4: Three of Hearts\n",
      "\n",
      "2\n",
      "0: Seven of Clubs\n",
      "1: Queen of Clubs\n",
      "2: Nine of Spades\n",
      "3: King of Clubs\n",
      "4: Seven of Hearts\n",
      "\n",
      "1\n",
      "0: Jack of Spades\n",
      "1: Five of Spades\n",
      "2: Two of Diamonds\n",
      "3: Eight of Hearts\n",
      "4: Five of Hearts\n",
      "\n"
     ]
    }
   ],
   "source": [
    "hands = list(map(Hand.deckToHand, d.deal(num_hands=4, card_per_hand=5)))\n",
    "\n",
    "for hand in hands:\n",
    "    print(hand.checkHand())\n",
    "    print(hand)"
   ]
  },
  {
   "cell_type": "code",
   "execution_count": 457,
   "metadata": {},
   "outputs": [
    {
     "name": "stdout",
     "output_type": "stream",
     "text": [
      "0: Four of Hearts\n",
      "1: Ace of Hearts\n",
      "2: Three of Clubs\n",
      "3: Eight of Diamonds\n",
      "4: Five of Diamonds\n",
      "5: Three of Diamonds\n",
      "6: Seven of Diamonds\n",
      "7: Ten of Diamonds\n",
      "8: Jack of Hearts\n",
      "9: Six of Diamonds\n",
      "10: Four of Diamonds\n",
      "11: Ace of Diamonds\n",
      "12: Eight of Spades\n",
      "13: King of Spades\n",
      "14: Five of Clubs\n",
      "15: Four of Spades\n",
      "16: Two of Hearts\n",
      "17: Four of Clubs\n",
      "18: Jack of Diamonds\n",
      "19: Queen of Diamonds\n",
      "20: Eight of Clubs\n",
      "21: Two of Clubs\n",
      "22: Nine of Hearts\n",
      "23: Ten of Clubs\n",
      "24: Queen of Hearts\n",
      "25: King of Diamonds\n",
      "26: Six of Clubs\n",
      "27: Six of Hearts\n",
      "28: Ten of Hearts\n",
      "29: Two of Spades\n",
      "30: Seven of Spades\n",
      "31: Ace of Clubs\n",
      "\n"
     ]
    }
   ],
   "source": [
    "print(d)"
   ]
  },
  {
   "cell_type": "markdown",
   "metadata": {},
   "source": [
    "##### Sort and Check Again\n",
    "\n",
    "Here, we want to sort by the (rough) score of the hand, and see if the hands are in the right order. We can do this by sorting the hands by their score, and then checking the order. This checks the sorting logic, and the scoring logic."
   ]
  },
  {
   "cell_type": "code",
   "execution_count": 458,
   "metadata": {},
   "outputs": [
    {
     "name": "stdout",
     "output_type": "stream",
     "text": [
      "2\n",
      "0: Three of Spades\n",
      "1: Six of Spades\n",
      "2: Ace of Spades\n",
      "3: King of Hearts\n",
      "4: Three of Hearts\n",
      "\n",
      "2\n",
      "0: Seven of Clubs\n",
      "1: Queen of Clubs\n",
      "2: Nine of Spades\n",
      "3: King of Clubs\n",
      "4: Seven of Hearts\n",
      "\n",
      "1\n",
      "0: Ten of Spades\n",
      "1: Queen of Spades\n",
      "2: Nine of Clubs\n",
      "3: Jack of Clubs\n",
      "4: Nine of Diamonds\n",
      "\n",
      "1\n",
      "0: Jack of Spades\n",
      "1: Five of Spades\n",
      "2: Two of Diamonds\n",
      "3: Eight of Hearts\n",
      "4: Five of Hearts\n",
      "\n"
     ]
    }
   ],
   "source": [
    "hands.sort(reverse=True)\n",
    "for hand in hands:\n",
    "    print(hand.checkHand())\n",
    "    print(hand)"
   ]
  },
  {
   "cell_type": "markdown",
   "metadata": {},
   "source": [
    "##### Deal Another Set of Hands\n",
    "\n",
    "Here, we want to deal another set of hands, and check that the cards are different. We can do this by checking that the cards in the new hands are not in the old hands, and vice versa. We also want to print the deck again, and make sure that it keeps shrinking as we deal from it. "
   ]
  },
  {
   "cell_type": "code",
   "execution_count": 459,
   "metadata": {},
   "outputs": [],
   "source": [
    "hands2 = list(map(Hand.deckToHand, d.deal(num_hands=7, card_per_hand=2)))"
   ]
  },
  {
   "cell_type": "code",
   "execution_count": 460,
   "metadata": {},
   "outputs": [
    {
     "name": "stdout",
     "output_type": "stream",
     "text": [
      "1\n",
      "0: Seven of Spades\n",
      "1: Ace of Clubs\n",
      "\n",
      "1\n",
      "0: Ten of Hearts\n",
      "1: Two of Spades\n",
      "\n",
      "4\n",
      "0: Six of Clubs\n",
      "1: Six of Hearts\n",
      "\n",
      "1\n",
      "0: King of Diamonds\n",
      "1: Queen of Hearts\n",
      "\n",
      "1\n",
      "0: Ten of Clubs\n",
      "1: Nine of Hearts\n",
      "\n",
      "5\n",
      "0: Two of Clubs\n",
      "1: Eight of Clubs\n",
      "\n",
      "5\n",
      "0: Jack of Diamonds\n",
      "1: Queen of Diamonds\n",
      "\n"
     ]
    }
   ],
   "source": [
    "for hand in hands2:\n",
    "    print(hand.checkHand())\n",
    "    print(hand)"
   ]
  },
  {
   "cell_type": "code",
   "execution_count": 461,
   "metadata": {},
   "outputs": [
    {
     "name": "stdout",
     "output_type": "stream",
     "text": [
      "0: Four of Hearts\n",
      "1: Ace of Hearts\n",
      "2: Three of Clubs\n",
      "3: Eight of Diamonds\n",
      "4: Five of Diamonds\n",
      "5: Three of Diamonds\n",
      "6: Seven of Diamonds\n",
      "7: Ten of Diamonds\n",
      "8: Jack of Hearts\n",
      "9: Six of Diamonds\n",
      "10: Four of Diamonds\n",
      "11: Ace of Diamonds\n",
      "12: Eight of Spades\n",
      "13: King of Spades\n",
      "14: Five of Clubs\n",
      "15: Four of Spades\n",
      "16: Two of Hearts\n",
      "17: Four of Clubs\n",
      "\n"
     ]
    }
   ],
   "source": [
    "print(d)"
   ]
  },
  {
   "cell_type": "markdown",
   "metadata": {},
   "source": [
    "##### Other Card Tests\n",
    "\n",
    "This is more from development than testing that we still need, but it won't hurt. Here I'm testing the creation of cards and hands manually, as well as the printout of the short form. "
   ]
  },
  {
   "cell_type": "code",
   "execution_count": 462,
   "metadata": {},
   "outputs": [
    {
     "name": "stdout",
     "output_type": "stream",
     "text": [
      "0: Queen of Spades\n",
      "1: Seven of Spades\n",
      "2: Queen of Hearts\n",
      "3: Nine of Hearts\n",
      "4: Seven of Hearts\n",
      "\n"
     ]
    }
   ],
   "source": [
    "card1 = Card(\"Hearts\", \"Queen\")\n",
    "card2 = Card(\"Spades\", \"Queen\")\n",
    "card3 = Card(\"Hearts\", \"Seven\")\n",
    "card4 = Card(\"Spades\", \"Seven\")\n",
    "card5 = Card(\"Hearts\", \"Nine\")\n",
    "\n",
    "hand1 = Hand(card1, card2, card3, card4, card5)\n",
    "print(hand1)"
   ]
  },
  {
   "cell_type": "code",
   "execution_count": 463,
   "metadata": {},
   "outputs": [
    {
     "name": "stdout",
     "output_type": "stream",
     "text": [
      "0: Queen of Spades\n",
      "1: Seven of Spades\n",
      "2: Queen of Hearts\n",
      "3: Nine of Hearts\n",
      "\n"
     ]
    }
   ],
   "source": [
    "hand1.removeCard(\"Hearts\", \"Seven\")\n",
    "print(hand1)"
   ]
  },
  {
   "cell_type": "code",
   "execution_count": 464,
   "metadata": {},
   "outputs": [
    {
     "name": "stdout",
     "output_type": "stream",
     "text": [
      "QH\n",
      "7H\n"
     ]
    }
   ],
   "source": [
    "print(Deck.tooShort(card1))\n",
    "print(Deck.tooShort(card3))"
   ]
  }
 ],
 "metadata": {
  "kernelspec": {
   "display_name": "ml_env",
   "language": "python",
   "name": "python3"
  },
  "language_info": {
   "codemirror_mode": {
    "name": "ipython",
    "version": 3
   },
   "file_extension": ".py",
   "mimetype": "text/x-python",
   "name": "python",
   "nbconvert_exporter": "python",
   "pygments_lexer": "ipython3",
   "version": "3.10.9"
  },
  "orig_nbformat": 4
 },
 "nbformat": 4,
 "nbformat_minor": 2
}
