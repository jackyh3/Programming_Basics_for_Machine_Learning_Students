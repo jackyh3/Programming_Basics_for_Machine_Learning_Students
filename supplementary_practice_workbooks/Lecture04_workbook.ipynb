{
  "cells": [
    {
      "cell_type": "markdown",
      "metadata": {
        "colab_type": "text",
        "id": "view-in-github"
      },
      "source": [
        "<a href=\"https://colab.research.google.com/github/DATA3320/Weekly/blob/main/Lecture04_workbook.ipynb\" target=\"_parent\"><img src=\"https://colab.research.google.com/assets/colab-badge.svg\" alt=\"Open In Colab\"/></a>"
      ]
    },
    {
      "cell_type": "markdown",
      "metadata": {
        "id": "sZVjeW8WXZjJ"
      },
      "source": [
        "# Lecture 4 Workbook"
      ]
    },
    {
      "cell_type": "markdown",
      "metadata": {
        "id": "YkKZ47-6XZjN"
      },
      "source": [
        "### 1."
      ]
    },
    {
      "cell_type": "markdown",
      "metadata": {
        "id": "PdvbfmvYXZjQ"
      },
      "source": [
        "Create a function `website()` that grabs the website domain from a url string. For example, if your function is passed `\"www.google.com\"`, it should return `\"google\"`."
      ]
    },
    {
      "cell_type": "code",
      "execution_count": 2,
      "metadata": {
        "id": "W4R-G0imXZjR"
      },
      "outputs": [
        {
          "name": "stdout",
          "output_type": "stream",
          "text": [
            "google\n"
          ]
        }
      ],
      "source": [
        "def website(url):\n",
        "    domain = url.split(\".\")[1]\n",
        "    return domain\n",
        "\n",
        "print(website(\"www.google.com\"))"
      ]
    },
    {
      "cell_type": "markdown",
      "metadata": {
        "id": "p9ZfAQk5XZjX"
      },
      "source": [
        "### 2."
      ]
    },
    {
      "cell_type": "markdown",
      "metadata": {
        "id": "ydny5oPqXZjX"
      },
      "source": [
        "Create a function `divisible(a, b)` that accepts two integers (`a` and `b`) and returns `True` if `a` is divisble by `b` without a remainder. For example, `divisible(10, 3)` should return `False`, while `divisible(6, 3)` should return `True`."
      ]
    },
    {
      "cell_type": "code",
      "execution_count": 3,
      "metadata": {
        "id": "aKUqhVqjXZjY"
      },
      "outputs": [
        {
          "name": "stdout",
          "output_type": "stream",
          "text": [
            "False\n",
            "True\n"
          ]
        }
      ],
      "source": [
        "def divisible(a, b):\n",
        "    if a % b == 0:\n",
        "        return True\n",
        "    return False\n",
        "\n",
        "print(divisible(10, 3))\n",
        "print(divisible(6, 3))"
      ]
    },
    {
      "cell_type": "markdown",
      "metadata": {
        "id": "gR-bokQMXZjZ"
      },
      "source": [
        "### 3."
      ]
    },
    {
      "cell_type": "markdown",
      "metadata": {
        "id": "IfL2WFqBXZjZ"
      },
      "source": [
        "For the following list of names, creates a list of *only* words that start with a capital letter (hint: `str.isupper()`)."
      ]
    },
    {
      "cell_type": "code",
      "execution_count": 4,
      "metadata": {
        "id": "JL6KlDyxXZja"
      },
      "outputs": [
        {
          "data": {
            "text/plain": [
              "['Steve Irwin', 'Australia', 'Sydney']"
            ]
          },
          "execution_count": 4,
          "metadata": {},
          "output_type": "execute_result"
        }
      ],
      "source": [
        "names = ['Steve Irwin', 'koala', 'kangaroo', 'Australia', 'Sydney', 'desert']\n",
        "\n",
        "\n",
        "upperList = []\n",
        "# Your answer here.\n",
        "for name in names:\n",
        "    if name[0].isupper():\n",
        "        upperList.append(name)\n",
        "\n",
        "upperList"
      ]
    },
    {
      "cell_type": "markdown",
      "metadata": {
        "id": "o49rXk3FXZjb"
      },
      "source": [
        "### 5."
      ]
    },
    {
      "cell_type": "markdown",
      "metadata": {
        "id": "tMBJ2P24XZjc"
      },
      "source": [
        "Create a function `lucky_sum()` that takes all the integers a user enters and returns their sum. *However*, if one of the values is 13 then it does not count towards the sum, nor do any values to its right.\n",
        "\n",
        "For example, your function should behave as follows:\n",
        "\n",
        "```python\n",
        "lucky_sum(1, 2, 3, 4)\n",
        "10\n",
        "\n",
        "lucky_sum(1, 13, 3, 4)\n",
        "1\n",
        "\n",
        "lucky_sum(13)\n",
        "0\n",
        "```"
      ]
    },
    {
      "cell_type": "code",
      "execution_count": 14,
      "metadata": {
        "id": "II8sn0o8XZjd"
      },
      "outputs": [
        {
          "data": {
            "text/plain": [
              "0"
            ]
          },
          "execution_count": 14,
          "metadata": {},
          "output_type": "execute_result"
        }
      ],
      "source": [
        "def lucky_sum(*args):\n",
        "    sum = 0\n",
        "    for num in args:\n",
        "        if type(num) is int:\n",
        "           if num == 13:\n",
        "               break\n",
        "           sum += num\n",
        "    return sum \n",
        "\n",
        "lucky_sum(1, 2, 3, 4)\n",
        "\n",
        "lucky_sum(1, 13, 3, 4)\n",
        "\n",
        "lucky_sum(13)"
      ]
    },
    {
      "cell_type": "markdown",
      "metadata": {
        "id": "1HErRfTGXZjf"
      },
      "source": [
        "### 6."
      ]
    },
    {
      "cell_type": "markdown",
      "metadata": {
        "id": "jonFbjKPXZjg"
      },
      "source": [
        "Create a file with the title of \"lecture04_1.txt\". Invite users to input the following Grades Roster:\n",
        "\n",
        "    John Smith: 89\n",
        "    Mary Davis: 92\n",
        "    Adam Li: 85\n",
        "    Mohamed Ali: 78\n",
        "\n",
        "(optional) Then to print the whole content of the file. "
      ]
    },
    {
      "cell_type": "code",
      "execution_count": 25,
      "metadata": {
        "id": "WmOLrqoSXZjh"
      },
      "outputs": [
        {
          "name": "stdout",
          "output_type": "stream",
          "text": [
            "John Smith: 89\n",
            "\n",
            "Mary Davis: 92\n",
            "\n",
            "Adam Li: 85\n",
            "\n",
            "Mohamed Ali: 78\n",
            "\n"
          ]
        }
      ],
      "source": [
        "with open('lecture04_01.txt', 'w') as file:\n",
        "    inp = '''John Smith: 89\\n\n",
        "Mary Davis: 92\\n\n",
        "Adam Li: 85\\n\n",
        "Mohamed Ali: 78\\n'''\n",
        "    file.write(inp)\n",
        "\n",
        "file = open('lecture04_01.txt', 'r')\n",
        "print(file.read())\n",
        "file.close()\n"
      ]
    },
    {
      "cell_type": "markdown",
      "metadata": {
        "id": "oVm8GbzCXZjj"
      },
      "source": [
        "### 7."
      ]
    },
    {
      "cell_type": "markdown",
      "metadata": {
        "id": "zwbvqrJEXZjk"
      },
      "source": [
        "Read the values from \"lecture04_1.txt\" and write them to a new output file with a user defined title, aligned in a column and followed by their total, and average values."
      ]
    },
    {
      "cell_type": "code",
      "execution_count": 35,
      "metadata": {
        "id": "8hZov6ZOXlsE"
      },
      "outputs": [
        {
          "name": "stdout",
          "output_type": "stream",
          "text": [
            "          Name  Grade\n",
            "0   John Smith     89\n",
            "1   Mary Davis     92\n",
            "2      Adam Li     85\n",
            "3  Mohamed Ali     78\n",
            "WOO\n",
            "[',Name,Grade\\n', '0,John Smith,89\\n', '1,Mary Davis,92\\n', '2,Adam Li,85\\n', '3,Mohamed Ali,78\\n']\n",
            "0,John Smith,89\n",
            "\n",
            "1,Mary Davis,92\n",
            "\n",
            "2,Adam Li,85\n",
            "\n",
            "3,Mohamed Ali,78\n",
            "\n"
          ]
        },
        {
          "name": "stderr",
          "output_type": "stream",
          "text": [
            "C:\\Users\\Jacky Huynh\\AppData\\Local\\Temp\\ipykernel_19896\\2556224488.py:5: ParserWarning: Falling back to the 'python' engine because the 'c' engine does not support regex separators (separators > 1 char and different from '\\s+' are interpreted as regex); you can avoid this warning by specifying engine='python'.\n",
            "  df = pd.read_csv('lecture04_01.txt', sep=\": \", header = None)\n"
          ]
        }
      ],
      "source": [
        "import pandas as pd\n",
        "with open('lecture04_01.txt', 'r') as f:\n",
        "    lines = f.read()\n",
        "    inp = input(\"Please title your file: \")\n",
        "    df = pd.read_csv('lecture04_01.txt', sep=\": \", header = None)\n",
        "    df.rename(columns={0:'Name',1:'Grade'}, inplace=True)\n",
        "    print(df)\n",
        "    print(inp)\n",
        "    df.to_csv(inp)\n",
        "\n",
        "    f2 = open(inp, 'r+')\n",
        "    total = 0\n",
        "    count = 0\n",
        "    lines2 = f2.readlines()\n",
        "    print(lines2)\n",
        "    for line in lines2:\n",
        "        if count == 0:\n",
        "            count += 1\n",
        "            continue\n",
        "        print(line)\n",
        "        total += int(line.split(',')[2])\n",
        "        count += 1\n",
        "    average = total / count\n",
        "\n",
        "    f2.write(\"Total: \" + str(total)+ \"\\n\")\n",
        "    f2.write(\"Average: \" + str(average) + \"\\n\")\n",
        "    f2.close()\n"
      ]
    },
    {
      "cell_type": "code",
      "execution_count": null,
      "metadata": {},
      "outputs": [],
      "source": []
    },
    {
      "cell_type": "code",
      "execution_count": null,
      "metadata": {},
      "outputs": [],
      "source": []
    }
  ],
  "metadata": {
    "colab": {
      "include_colab_link": true,
      "provenance": []
    },
    "kernelspec": {
      "display_name": "Python 3 (ipykernel)",
      "language": "python",
      "name": "python3"
    },
    "language_info": {
      "codemirror_mode": {
        "name": "ipython",
        "version": 3
      },
      "file_extension": ".py",
      "mimetype": "text/x-python",
      "name": "python",
      "nbconvert_exporter": "python",
      "pygments_lexer": "ipython3",
      "version": "3.12.4"
    }
  },
  "nbformat": 4,
  "nbformat_minor": 0
}
