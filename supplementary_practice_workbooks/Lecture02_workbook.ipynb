{
  "cells": [
    {
      "cell_type": "markdown",
      "metadata": {
        "colab_type": "text",
        "id": "view-in-github"
      },
      "source": [
        "<a href=\"https://colab.research.google.com/github/DATA3320/Weekly/blob/main/Lecture02_workbook.ipynb\" target=\"_parent\"><img src=\"https://colab.research.google.com/assets/colab-badge.svg\" alt=\"Open In Colab\"/></a>"
      ]
    },
    {
      "cell_type": "markdown",
      "metadata": {
        "id": "cH4vAyydix_e"
      },
      "source": [
        "# Lecture 2 Workbook"
      ]
    },
    {
      "cell_type": "markdown",
      "metadata": {
        "id": "q7jUzLsxix_k"
      },
      "source": [
        "### 1."
      ]
    },
    {
      "cell_type": "markdown",
      "metadata": {
        "id": "pSA3w2Q2ix_m"
      },
      "source": [
        "Print greeting to your fellow student."
      ]
    },
    {
      "cell_type": "code",
      "execution_count": 1,
      "metadata": {
        "id": "FjKJgvxIix_o"
      },
      "outputs": [
        {
          "name": "stdout",
          "output_type": "stream",
          "text": [
            "greeting to your fellow student\n"
          ]
        }
      ],
      "source": [
        "# Your answer here.\n",
        "print(\"greeting to your fellow student\")"
      ]
    },
    {
      "cell_type": "markdown",
      "metadata": {
        "id": "xSuDn8wOix_r"
      },
      "source": [
        "### 2."
      ]
    },
    {
      "cell_type": "markdown",
      "metadata": {
        "id": "4FwhKdWvix_t"
      },
      "source": [
        "Print the following statement:\n",
        "\n",
        "    \"The only way to do great work is to love what you do.\" - Steve Jobs"
      ]
    },
    {
      "cell_type": "code",
      "execution_count": 2,
      "metadata": {
        "id": "EwG-A68yix_w"
      },
      "outputs": [
        {
          "name": "stdout",
          "output_type": "stream",
          "text": [
            "'The only way to do great work is to love what you do.' - Steve Jobs\n"
          ]
        }
      ],
      "source": [
        "# Your answer here.\n",
        "print(\"'The only way to do great work is to love what you do.' - Steve Jobs\")"
      ]
    },
    {
      "cell_type": "markdown",
      "metadata": {
        "id": "4lS__sa2ix_y"
      },
      "source": [
        "### 3."
      ]
    },
    {
      "cell_type": "markdown",
      "metadata": {
        "id": "Zyd22PeDix_z"
      },
      "source": [
        "Print the following statement:\n",
        "\n",
        "    \"You're never too old to set a new goal or dream a new dream.\" - C.S. Lewis"
      ]
    },
    {
      "cell_type": "code",
      "execution_count": null,
      "metadata": {
        "id": "-n_3NFPPix_0"
      },
      "outputs": [],
      "source": [
        "# Your answer here.\n"
      ]
    },
    {
      "cell_type": "markdown",
      "metadata": {
        "id": "WquUQ4Slix_1"
      },
      "source": [
        "### 4."
      ]
    },
    {
      "cell_type": "markdown",
      "metadata": {
        "id": "G0wBKuTzix_2"
      },
      "source": [
        "What is 5 to the power of 5?"
      ]
    },
    {
      "cell_type": "code",
      "execution_count": 5,
      "metadata": {
        "id": "eyEFjMZnix_4"
      },
      "outputs": [
        {
          "data": {
            "text/plain": [
              "3125"
            ]
          },
          "execution_count": 5,
          "metadata": {},
          "output_type": "execute_result"
        }
      ],
      "source": [
        "# Your answer here.\n",
        "pow5 = 5 ** 5\n",
        "pow5"
      ]
    },
    {
      "cell_type": "markdown",
      "metadata": {
        "id": "pCSu93buix_6"
      },
      "source": [
        "### 5."
      ]
    },
    {
      "cell_type": "markdown",
      "metadata": {
        "id": "xskCx3-Vix_6"
      },
      "source": [
        "What is the remainder from dividing 73 by 6?"
      ]
    },
    {
      "cell_type": "code",
      "execution_count": 6,
      "metadata": {
        "id": "eaSvqAofix_7"
      },
      "outputs": [
        {
          "data": {
            "text/plain": [
              "1"
            ]
          },
          "execution_count": 6,
          "metadata": {},
          "output_type": "execute_result"
        }
      ],
      "source": [
        "# Your answer here.\n",
        "remainder = 73 % 6\n",
        "remainder"
      ]
    },
    {
      "cell_type": "markdown",
      "metadata": {
        "id": "g7k5FsvCix_8"
      },
      "source": [
        "### 6."
      ]
    },
    {
      "cell_type": "markdown",
      "metadata": {
        "id": "moJkTa1zix_-"
      },
      "source": [
        "How many times does the whole number 3 go into 123? What is the remainder of dividing 123 by 3?"
      ]
    },
    {
      "cell_type": "code",
      "execution_count": 11,
      "metadata": {
        "id": "2rTFza1Lix__"
      },
      "outputs": [
        {
          "data": {
            "text/plain": [
              "0"
            ]
          },
          "execution_count": 11,
          "metadata": {},
          "output_type": "execute_result"
        }
      ],
      "source": [
        "# Your answer here.\n",
        "times = 123 // 3 # floor rounds down, thus checks how many whole numbers it goes into by\n",
        "times\n",
        "remainder = 123 % 3\n",
        "remainder"
      ]
    },
    {
      "cell_type": "markdown",
      "metadata": {
        "id": "P3eBCNRPiyAB"
      },
      "source": [
        "### 7."
      ]
    },
    {
      "cell_type": "markdown",
      "metadata": {
        "id": "Q0wTbp3SiyAC"
      },
      "source": [
        "Given the following variables:\n",
        "\n",
        "```\n",
        "thing = \"light\"\n",
        "speed = 299792458  # m/s\n",
        "```\n",
        "\n",
        "Use f-strings to print:\n",
        "\n",
        "```\n",
        "The speed of light is 2.997925e+08 m/s.\n",
        "```"
      ]
    },
    {
      "cell_type": "code",
      "execution_count": 12,
      "metadata": {
        "id": "xthrVMCYiyAE"
      },
      "outputs": [
        {
          "name": "stdout",
          "output_type": "stream",
          "text": [
            "The speed of light is 299792458 m/s.\n"
          ]
        }
      ],
      "source": [
        "# Your answer here.\n",
        "thing = 'light'\n",
        "speed = 299792458 #m/s\n",
        "print(f\"The speed of {thing} is {speed} m/s.\")"
      ]
    },
    {
      "cell_type": "code",
      "execution_count": null,
      "metadata": {},
      "outputs": [],
      "source": []
    }
  ],
  "metadata": {
    "colab": {
      "include_colab_link": true,
      "provenance": []
    },
    "kernelspec": {
      "display_name": "Python 3 (ipykernel)",
      "language": "python",
      "name": "python3"
    },
    "language_info": {
      "codemirror_mode": {
        "name": "ipython",
        "version": 3
      },
      "file_extension": ".py",
      "mimetype": "text/x-python",
      "name": "python",
      "nbconvert_exporter": "python",
      "pygments_lexer": "ipython3",
      "version": "3.12.4"
    }
  },
  "nbformat": 4,
  "nbformat_minor": 0
}
